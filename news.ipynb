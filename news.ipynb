{
 "cells": [
  {
   "cell_type": "code",
   "execution_count": 3,
   "metadata": {},
   "outputs": [
    {
     "name": "stdout",
     "output_type": "stream",
     "text": [
      "DELETE FROM `news`\n"
     ]
    },
    {
     "name": "stderr",
     "output_type": "stream",
     "text": [
      "d:\\desk\\qiaotianyi\\Anacoda\\lib\\site-packages\\urllib3\\connectionpool.py:1043: InsecureRequestWarning: Unverified HTTPS request is being made to host 'sou.chinanews.com.cn'. Adding certificate verification is strongly advised. See: https://urllib3.readthedocs.io/en/1.26.x/advanced-usage.html#ssl-warnings\n",
      "  warnings.warn(\n"
     ]
    },
    {
     "name": "stdout",
     "output_type": "stream",
     "text": [
      "INSERT INTO `news` (news_title, news_content, news_photo, news_date, news_source, news_abstract, news_views) VALUES (%s, %s, %s, %s, %s, %s, %s)\n",
      "INSERT INTO `news` (news_title, news_content, news_photo, news_date, news_source, news_abstract, news_views) VALUES (%s, %s, %s, %s, %s, %s, %s)\n",
      "INSERT INTO `news` (news_title, news_content, news_photo, news_date, news_source, news_abstract, news_views) VALUES (%s, %s, %s, %s, %s, %s, %s)\n",
      "INSERT INTO `news` (news_title, news_content, news_photo, news_date, news_source, news_abstract, news_views) VALUES (%s, %s, %s, %s, %s, %s, %s)\n",
      "INSERT INTO `news` (news_title, news_content, news_photo, news_date, news_source, news_abstract, news_views) VALUES (%s, %s, %s, %s, %s, %s, %s)\n",
      "INSERT INTO `news` (news_title, news_content, news_photo, news_date, news_source, news_abstract, news_views) VALUES (%s, %s, %s, %s, %s, %s, %s)\n",
      "INSERT INTO `news` (news_title, news_content, news_photo, news_date, news_source, news_abstract, news_views) VALUES (%s, %s, %s, %s, %s, %s, %s)\n",
      "INSERT INTO `news` (news_title, news_content, news_photo, news_date, news_source, news_abstract, news_views) VALUES (%s, %s, %s, %s, %s, %s, %s)\n",
      "INSERT INTO `news` (news_title, news_content, news_photo, news_date, news_source, news_abstract, news_views) VALUES (%s, %s, %s, %s, %s, %s, %s)\n",
      "INSERT INTO `news` (news_title, news_content, news_photo, news_date, news_source, news_abstract, news_views) VALUES (%s, %s, %s, %s, %s, %s, %s)\n",
      "(18, '渔民与海，波涛中那份情感交织', '她一打听，传言是因为核污水排放，开海不要“动静太大”。\\u3000\\u3000依傍国内四大渔场之一黄渤海渔场的初旺村，有着胶东...', '1.png', datetime.date(2023, 10, 10), '中国新闻网', '她一打听，传言是因为核污水排放，开海不要“动静太大”。\\u3000\\u3000依傍国内四大渔场之一黄渤海渔场的初旺村，有着胶东...', 3)\n",
      "(19, '日本启动第二轮排海前准备工作 预计排放约7800吨核污水', '中新网10月3日电 据日本共同社报道，东京电力公司3日启动了福岛第一核电站核污染水第二轮排海前准备工作。\\r\\r\\r\\r资料图：日本福岛第一核电站。\\r\\r\\u3000\\u3000据报道，测定即将排入海洋的核污染水中的氚浓度，如果浓度符合其所谓的“标准”，将于5日正式...', '2.png', datetime.date(2023, 10, 3), '中国新闻网', '中新网10月3日电 据日本共同社报道，东京电力公司3日启动了福岛第一核电站核污染水第二轮排海前准备工作。\\r\\r\\r\\r资料图：日本福岛第一核电站。\\r\\r\\u3000\\u3000据报道，测定即将排入海洋的核污染水中的氚浓度，如果浓度符合其所谓的“标准”，将于5日正式...', 101)\n"
     ]
    },
    {
     "name": "stderr",
     "output_type": "stream",
     "text": [
      "d:\\desk\\qiaotianyi\\Anacoda\\lib\\site-packages\\urllib3\\connectionpool.py:1043: InsecureRequestWarning: Unverified HTTPS request is being made to host 'sou.chinanews.com.cn'. Adding certificate verification is strongly advised. See: https://urllib3.readthedocs.io/en/1.26.x/advanced-usage.html#ssl-warnings\n",
      "  warnings.warn(\n"
     ]
    },
    {
     "name": "stdout",
     "output_type": "stream",
     "text": [
      "INSERT INTO `news` (news_title, news_content, news_photo, news_date, news_source, news_abstract, news_views) VALUES (%s, %s, %s, %s, %s, %s, %s)\n",
      "INSERT INTO `news` (news_title, news_content, news_photo, news_date, news_source, news_abstract, news_views) VALUES (%s, %s, %s, %s, %s, %s, %s)\n",
      "INSERT INTO `news` (news_title, news_content, news_photo, news_date, news_source, news_abstract, news_views) VALUES (%s, %s, %s, %s, %s, %s, %s)\n",
      "INSERT INTO `news` (news_title, news_content, news_photo, news_date, news_source, news_abstract, news_views) VALUES (%s, %s, %s, %s, %s, %s, %s)\n",
      "INSERT INTO `news` (news_title, news_content, news_photo, news_date, news_source, news_abstract, news_views) VALUES (%s, %s, %s, %s, %s, %s, %s)\n",
      "INSERT INTO `news` (news_title, news_content, news_photo, news_date, news_source, news_abstract, news_views) VALUES (%s, %s, %s, %s, %s, %s, %s)\n",
      "INSERT INTO `news` (news_title, news_content, news_photo, news_date, news_source, news_abstract, news_views) VALUES (%s, %s, %s, %s, %s, %s, %s)\n",
      "INSERT INTO `news` (news_title, news_content, news_photo, news_date, news_source, news_abstract, news_views) VALUES (%s, %s, %s, %s, %s, %s, %s)\n",
      "INSERT INTO `news` (news_title, news_content, news_photo, news_date, news_source, news_abstract, news_views) VALUES (%s, %s, %s, %s, %s, %s, %s)\n",
      "INSERT INTO `news` (news_title, news_content, news_photo, news_date, news_source, news_abstract, news_views) VALUES (%s, %s, %s, %s, %s, %s, %s)\n",
      "(18, '渔民与海，波涛中那份情感交织', '她一打听，传言是因为核污水排放，开海不要“动静太大”。\\u3000\\u3000依傍国内四大渔场之一黄渤海渔场的初旺村，有着胶东...', '1.png', datetime.date(2023, 10, 10), '中国新闻网', '她一打听，传言是因为核污水排放，开海不要“动静太大”。\\u3000\\u3000依傍国内四大渔场之一黄渤海渔场的初旺村，有着胶东...', 3)\n",
      "(19, '日本启动第二轮排海前准备工作 预计排放约7800吨核污水', '中新网10月3日电 据日本共同社报道，东京电力公司3日启动了福岛第一核电站核污染水第二轮排海前准备工作。\\r\\r\\r\\r资料图：日本福岛第一核电站。\\r\\r\\u3000\\u3000据报道，测定即将排入海洋的核污染水中的氚浓度，如果浓度符合其所谓的“标准”，将于5日正式...', '2.png', datetime.date(2023, 10, 3), '中国新闻网', '中新网10月3日电 据日本共同社报道，东京电力公司3日启动了福岛第一核电站核污染水第二轮排海前准备工作。\\r\\r\\r\\r资料图：日本福岛第一核电站。\\r\\r\\u3000\\u3000据报道，测定即将排入海洋的核污染水中的氚浓度，如果浓度符合其所谓的“标准”，将于5日正式...', 101)\n"
     ]
    },
    {
     "name": "stderr",
     "output_type": "stream",
     "text": [
      "d:\\desk\\qiaotianyi\\Anacoda\\lib\\site-packages\\urllib3\\connectionpool.py:1043: InsecureRequestWarning: Unverified HTTPS request is being made to host 'sou.chinanews.com.cn'. Adding certificate verification is strongly advised. See: https://urllib3.readthedocs.io/en/1.26.x/advanced-usage.html#ssl-warnings\n",
      "  warnings.warn(\n"
     ]
    },
    {
     "name": "stdout",
     "output_type": "stream",
     "text": [
      "INSERT INTO `news` (news_title, news_content, news_photo, news_date, news_source, news_abstract, news_views) VALUES (%s, %s, %s, %s, %s, %s, %s)\n",
      "INSERT INTO `news` (news_title, news_content, news_photo, news_date, news_source, news_abstract, news_views) VALUES (%s, %s, %s, %s, %s, %s, %s)\n",
      "INSERT INTO `news` (news_title, news_content, news_photo, news_date, news_source, news_abstract, news_views) VALUES (%s, %s, %s, %s, %s, %s, %s)\n",
      "INSERT INTO `news` (news_title, news_content, news_photo, news_date, news_source, news_abstract, news_views) VALUES (%s, %s, %s, %s, %s, %s, %s)\n",
      "INSERT INTO `news` (news_title, news_content, news_photo, news_date, news_source, news_abstract, news_views) VALUES (%s, %s, %s, %s, %s, %s, %s)\n",
      "INSERT INTO `news` (news_title, news_content, news_photo, news_date, news_source, news_abstract, news_views) VALUES (%s, %s, %s, %s, %s, %s, %s)\n",
      "INSERT INTO `news` (news_title, news_content, news_photo, news_date, news_source, news_abstract, news_views) VALUES (%s, %s, %s, %s, %s, %s, %s)\n",
      "INSERT INTO `news` (news_title, news_content, news_photo, news_date, news_source, news_abstract, news_views) VALUES (%s, %s, %s, %s, %s, %s, %s)\n",
      "INSERT INTO `news` (news_title, news_content, news_photo, news_date, news_source, news_abstract, news_views) VALUES (%s, %s, %s, %s, %s, %s, %s)\n",
      "INSERT INTO `news` (news_title, news_content, news_photo, news_date, news_source, news_abstract, news_views) VALUES (%s, %s, %s, %s, %s, %s, %s)\n",
      "(18, '渔民与海，波涛中那份情感交织', '她一打听，传言是因为核污水排放，开海不要“动静太大”。\\u3000\\u3000依傍国内四大渔场之一黄渤海渔场的初旺村，有着胶东...', '1.png', datetime.date(2023, 10, 10), '中国新闻网', '她一打听，传言是因为核污水排放，开海不要“动静太大”。\\u3000\\u3000依傍国内四大渔场之一黄渤海渔场的初旺村，有着胶东...', 3)\n",
      "(19, '日本启动第二轮排海前准备工作 预计排放约7800吨核污水', '中新网10月3日电 据日本共同社报道，东京电力公司3日启动了福岛第一核电站核污染水第二轮排海前准备工作。\\r\\r\\r\\r资料图：日本福岛第一核电站。\\r\\r\\u3000\\u3000据报道，测定即将排入海洋的核污染水中的氚浓度，如果浓度符合其所谓的“标准”，将于5日正式...', '2.png', datetime.date(2023, 10, 3), '中国新闻网', '中新网10月3日电 据日本共同社报道，东京电力公司3日启动了福岛第一核电站核污染水第二轮排海前准备工作。\\r\\r\\r\\r资料图：日本福岛第一核电站。\\r\\r\\u3000\\u3000据报道，测定即将排入海洋的核污染水中的氚浓度，如果浓度符合其所谓的“标准”，将于5日正式...', 101)\n",
      "INSERT INTO `news` (news_title, news_content, news_photo, news_date, news_source, news_abstract, news_views) VALUES (%s, %s, %s, %s, %s, %s, %s)\n"
     ]
    },
    {
     "name": "stderr",
     "output_type": "stream",
     "text": [
      "d:\\desk\\qiaotianyi\\Anacoda\\lib\\site-packages\\urllib3\\connectionpool.py:1043: InsecureRequestWarning: Unverified HTTPS request is being made to host 'sou.chinanews.com.cn'. Adding certificate verification is strongly advised. See: https://urllib3.readthedocs.io/en/1.26.x/advanced-usage.html#ssl-warnings\n",
      "  warnings.warn(\n",
      "d:\\desk\\qiaotianyi\\Anacoda\\lib\\site-packages\\urllib3\\connectionpool.py:1043: InsecureRequestWarning: Unverified HTTPS request is being made to host 'sou.chinanews.com.cn'. Adding certificate verification is strongly advised. See: https://urllib3.readthedocs.io/en/1.26.x/advanced-usage.html#ssl-warnings\n",
      "  warnings.warn(\n"
     ]
    },
    {
     "name": "stdout",
     "output_type": "stream",
     "text": [
      "INSERT INTO `news` (news_title, news_content, news_photo, news_date, news_source, news_abstract, news_views) VALUES (%s, %s, %s, %s, %s, %s, %s)\n",
      "INSERT INTO `news` (news_title, news_content, news_photo, news_date, news_source, news_abstract, news_views) VALUES (%s, %s, %s, %s, %s, %s, %s)\n",
      "INSERT INTO `news` (news_title, news_content, news_photo, news_date, news_source, news_abstract, news_views) VALUES (%s, %s, %s, %s, %s, %s, %s)\n",
      "INSERT INTO `news` (news_title, news_content, news_photo, news_date, news_source, news_abstract, news_views) VALUES (%s, %s, %s, %s, %s, %s, %s)\n",
      "INSERT INTO `news` (news_title, news_content, news_photo, news_date, news_source, news_abstract, news_views) VALUES (%s, %s, %s, %s, %s, %s, %s)\n",
      "INSERT INTO `news` (news_title, news_content, news_photo, news_date, news_source, news_abstract, news_views) VALUES (%s, %s, %s, %s, %s, %s, %s)\n",
      "INSERT INTO `news` (news_title, news_content, news_photo, news_date, news_source, news_abstract, news_views) VALUES (%s, %s, %s, %s, %s, %s, %s)\n",
      "INSERT INTO `news` (news_title, news_content, news_photo, news_date, news_source, news_abstract, news_views) VALUES (%s, %s, %s, %s, %s, %s, %s)\n",
      "INSERT INTO `news` (news_title, news_content, news_photo, news_date, news_source, news_abstract, news_views) VALUES (%s, %s, %s, %s, %s, %s, %s)\n",
      "(18, '渔民与海，波涛中那份情感交织', '她一打听，传言是因为核污水排放，开海不要“动静太大”。\\u3000\\u3000依傍国内四大渔场之一黄渤海渔场的初旺村，有着胶东...', '1.png', datetime.date(2023, 10, 10), '中国新闻网', '她一打听，传言是因为核污水排放，开海不要“动静太大”。\\u3000\\u3000依傍国内四大渔场之一黄渤海渔场的初旺村，有着胶东...', 3)\n",
      "(19, '日本启动第二轮排海前准备工作 预计排放约7800吨核污水', '中新网10月3日电 据日本共同社报道，东京电力公司3日启动了福岛第一核电站核污染水第二轮排海前准备工作。\\r\\r\\r\\r资料图：日本福岛第一核电站。\\r\\r\\u3000\\u3000据报道，测定即将排入海洋的核污染水中的氚浓度，如果浓度符合其所谓的“标准”，将于5日正式...', '2.png', datetime.date(2023, 10, 3), '中国新闻网', '中新网10月3日电 据日本共同社报道，东京电力公司3日启动了福岛第一核电站核污染水第二轮排海前准备工作。\\r\\r\\r\\r资料图：日本福岛第一核电站。\\r\\r\\u3000\\u3000据报道，测定即将排入海洋的核污染水中的氚浓度，如果浓度符合其所谓的“标准”，将于5日正式...', 101)\n",
      "INSERT INTO `news` (news_title, news_content, news_photo, news_date, news_source, news_abstract, news_views) VALUES (%s, %s, %s, %s, %s, %s, %s)\n",
      "INSERT INTO `news` (news_title, news_content, news_photo, news_date, news_source, news_abstract, news_views) VALUES (%s, %s, %s, %s, %s, %s, %s)\n",
      "INSERT INTO `news` (news_title, news_content, news_photo, news_date, news_source, news_abstract, news_views) VALUES (%s, %s, %s, %s, %s, %s, %s)\n",
      "INSERT INTO `news` (news_title, news_content, news_photo, news_date, news_source, news_abstract, news_views) VALUES (%s, %s, %s, %s, %s, %s, %s)\n",
      "INSERT INTO `news` (news_title, news_content, news_photo, news_date, news_source, news_abstract, news_views) VALUES (%s, %s, %s, %s, %s, %s, %s)\n",
      "INSERT INTO `news` (news_title, news_content, news_photo, news_date, news_source, news_abstract, news_views) VALUES (%s, %s, %s, %s, %s, %s, %s)\n",
      "INSERT INTO `news` (news_title, news_content, news_photo, news_date, news_source, news_abstract, news_views) VALUES (%s, %s, %s, %s, %s, %s, %s)\n",
      "INSERT INTO `news` (news_title, news_content, news_photo, news_date, news_source, news_abstract, news_views) VALUES (%s, %s, %s, %s, %s, %s, %s)\n",
      "INSERT INTO `news` (news_title, news_content, news_photo, news_date, news_source, news_abstract, news_views) VALUES (%s, %s, %s, %s, %s, %s, %s)\n",
      "INSERT INTO `news` (news_title, news_content, news_photo, news_date, news_source, news_abstract, news_views) VALUES (%s, %s, %s, %s, %s, %s, %s)\n",
      "(18, '渔民与海，波涛中那份情感交织', '她一打听，传言是因为核污水排放，开海不要“动静太大”。\\u3000\\u3000依傍国内四大渔场之一黄渤海渔场的初旺村，有着胶东...', '1.png', datetime.date(2023, 10, 10), '中国新闻网', '她一打听，传言是因为核污水排放，开海不要“动静太大”。\\u3000\\u3000依傍国内四大渔场之一黄渤海渔场的初旺村，有着胶东...', 3)\n",
      "(19, '日本启动第二轮排海前准备工作 预计排放约7800吨核污水', '中新网10月3日电 据日本共同社报道，东京电力公司3日启动了福岛第一核电站核污染水第二轮排海前准备工作。\\r\\r\\r\\r资料图：日本福岛第一核电站。\\r\\r\\u3000\\u3000据报道，测定即将排入海洋的核污染水中的氚浓度，如果浓度符合其所谓的“标准”，将于5日正式...', '2.png', datetime.date(2023, 10, 3), '中国新闻网', '中新网10月3日电 据日本共同社报道，东京电力公司3日启动了福岛第一核电站核污染水第二轮排海前准备工作。\\r\\r\\r\\r资料图：日本福岛第一核电站。\\r\\r\\u3000\\u3000据报道，测定即将排入海洋的核污染水中的氚浓度，如果浓度符合其所谓的“标准”，将于5日正式...', 101)\n"
     ]
    },
    {
     "name": "stderr",
     "output_type": "stream",
     "text": [
      "d:\\desk\\qiaotianyi\\Anacoda\\lib\\site-packages\\urllib3\\connectionpool.py:1043: InsecureRequestWarning: Unverified HTTPS request is being made to host 'sou.chinanews.com.cn'. Adding certificate verification is strongly advised. See: https://urllib3.readthedocs.io/en/1.26.x/advanced-usage.html#ssl-warnings\n",
      "  warnings.warn(\n"
     ]
    },
    {
     "name": "stdout",
     "output_type": "stream",
     "text": [
      "INSERT INTO `news` (news_title, news_content, news_photo, news_date, news_source, news_abstract, news_views) VALUES (%s, %s, %s, %s, %s, %s, %s)\n",
      "INSERT INTO `news` (news_title, news_content, news_photo, news_date, news_source, news_abstract, news_views) VALUES (%s, %s, %s, %s, %s, %s, %s)\n",
      "INSERT INTO `news` (news_title, news_content, news_photo, news_date, news_source, news_abstract, news_views) VALUES (%s, %s, %s, %s, %s, %s, %s)\n",
      "INSERT INTO `news` (news_title, news_content, news_photo, news_date, news_source, news_abstract, news_views) VALUES (%s, %s, %s, %s, %s, %s, %s)\n",
      "INSERT INTO `news` (news_title, news_content, news_photo, news_date, news_source, news_abstract, news_views) VALUES (%s, %s, %s, %s, %s, %s, %s)\n",
      "INSERT INTO `news` (news_title, news_content, news_photo, news_date, news_source, news_abstract, news_views) VALUES (%s, %s, %s, %s, %s, %s, %s)\n",
      "INSERT INTO `news` (news_title, news_content, news_photo, news_date, news_source, news_abstract, news_views) VALUES (%s, %s, %s, %s, %s, %s, %s)\n",
      "INSERT INTO `news` (news_title, news_content, news_photo, news_date, news_source, news_abstract, news_views) VALUES (%s, %s, %s, %s, %s, %s, %s)\n",
      "INSERT INTO `news` (news_title, news_content, news_photo, news_date, news_source, news_abstract, news_views) VALUES (%s, %s, %s, %s, %s, %s, %s)\n",
      "INSERT INTO `news` (news_title, news_content, news_photo, news_date, news_source, news_abstract, news_views) VALUES (%s, %s, %s, %s, %s, %s, %s)\n",
      "(18, '渔民与海，波涛中那份情感交织', '她一打听，传言是因为核污水排放，开海不要“动静太大”。\\u3000\\u3000依傍国内四大渔场之一黄渤海渔场的初旺村，有着胶东...', '1.png', datetime.date(2023, 10, 10), '中国新闻网', '她一打听，传言是因为核污水排放，开海不要“动静太大”。\\u3000\\u3000依傍国内四大渔场之一黄渤海渔场的初旺村，有着胶东...', 3)\n",
      "(19, '日本启动第二轮排海前准备工作 预计排放约7800吨核污水', '中新网10月3日电 据日本共同社报道，东京电力公司3日启动了福岛第一核电站核污染水第二轮排海前准备工作。\\r\\r\\r\\r资料图：日本福岛第一核电站。\\r\\r\\u3000\\u3000据报道，测定即将排入海洋的核污染水中的氚浓度，如果浓度符合其所谓的“标准”，将于5日正式...', '2.png', datetime.date(2023, 10, 3), '中国新闻网', '中新网10月3日电 据日本共同社报道，东京电力公司3日启动了福岛第一核电站核污染水第二轮排海前准备工作。\\r\\r\\r\\r资料图：日本福岛第一核电站。\\r\\r\\u3000\\u3000据报道，测定即将排入海洋的核污染水中的氚浓度，如果浓度符合其所谓的“标准”，将于5日正式...', 101)\n",
      "INSERT INTO `news` (news_title, news_content, news_photo, news_date, news_source, news_abstract, news_views) VALUES (%s, %s, %s, %s, %s, %s, %s)\n"
     ]
    },
    {
     "name": "stderr",
     "output_type": "stream",
     "text": [
      "d:\\desk\\qiaotianyi\\Anacoda\\lib\\site-packages\\urllib3\\connectionpool.py:1043: InsecureRequestWarning: Unverified HTTPS request is being made to host 'sou.chinanews.com.cn'. Adding certificate verification is strongly advised. See: https://urllib3.readthedocs.io/en/1.26.x/advanced-usage.html#ssl-warnings\n",
      "  warnings.warn(\n",
      "d:\\desk\\qiaotianyi\\Anacoda\\lib\\site-packages\\urllib3\\connectionpool.py:1043: InsecureRequestWarning: Unverified HTTPS request is being made to host 'sou.chinanews.com.cn'. Adding certificate verification is strongly advised. See: https://urllib3.readthedocs.io/en/1.26.x/advanced-usage.html#ssl-warnings\n",
      "  warnings.warn(\n"
     ]
    },
    {
     "name": "stdout",
     "output_type": "stream",
     "text": [
      "INSERT INTO `news` (news_title, news_content, news_photo, news_date, news_source, news_abstract, news_views) VALUES (%s, %s, %s, %s, %s, %s, %s)\n",
      "INSERT INTO `news` (news_title, news_content, news_photo, news_date, news_source, news_abstract, news_views) VALUES (%s, %s, %s, %s, %s, %s, %s)\n",
      "INSERT INTO `news` (news_title, news_content, news_photo, news_date, news_source, news_abstract, news_views) VALUES (%s, %s, %s, %s, %s, %s, %s)\n",
      "INSERT INTO `news` (news_title, news_content, news_photo, news_date, news_source, news_abstract, news_views) VALUES (%s, %s, %s, %s, %s, %s, %s)\n",
      "INSERT INTO `news` (news_title, news_content, news_photo, news_date, news_source, news_abstract, news_views) VALUES (%s, %s, %s, %s, %s, %s, %s)\n",
      "INSERT INTO `news` (news_title, news_content, news_photo, news_date, news_source, news_abstract, news_views) VALUES (%s, %s, %s, %s, %s, %s, %s)\n",
      "INSERT INTO `news` (news_title, news_content, news_photo, news_date, news_source, news_abstract, news_views) VALUES (%s, %s, %s, %s, %s, %s, %s)\n",
      "INSERT INTO `news` (news_title, news_content, news_photo, news_date, news_source, news_abstract, news_views) VALUES (%s, %s, %s, %s, %s, %s, %s)\n",
      "INSERT INTO `news` (news_title, news_content, news_photo, news_date, news_source, news_abstract, news_views) VALUES (%s, %s, %s, %s, %s, %s, %s)\n",
      "(18, '渔民与海，波涛中那份情感交织', '她一打听，传言是因为核污水排放，开海不要“动静太大”。\\u3000\\u3000依傍国内四大渔场之一黄渤海渔场的初旺村，有着胶东...', '1.png', datetime.date(2023, 10, 10), '中国新闻网', '她一打听，传言是因为核污水排放，开海不要“动静太大”。\\u3000\\u3000依傍国内四大渔场之一黄渤海渔场的初旺村，有着胶东...', 3)\n",
      "(19, '日本启动第二轮排海前准备工作 预计排放约7800吨核污水', '中新网10月3日电 据日本共同社报道，东京电力公司3日启动了福岛第一核电站核污染水第二轮排海前准备工作。\\r\\r\\r\\r资料图：日本福岛第一核电站。\\r\\r\\u3000\\u3000据报道，测定即将排入海洋的核污染水中的氚浓度，如果浓度符合其所谓的“标准”，将于5日正式...', '2.png', datetime.date(2023, 10, 3), '中国新闻网', '中新网10月3日电 据日本共同社报道，东京电力公司3日启动了福岛第一核电站核污染水第二轮排海前准备工作。\\r\\r\\r\\r资料图：日本福岛第一核电站。\\r\\r\\u3000\\u3000据报道，测定即将排入海洋的核污染水中的氚浓度，如果浓度符合其所谓的“标准”，将于5日正式...', 101)\n",
      "INSERT INTO `news` (news_title, news_content, news_photo, news_date, news_source, news_abstract, news_views) VALUES (%s, %s, %s, %s, %s, %s, %s)\n",
      "INSERT INTO `news` (news_title, news_content, news_photo, news_date, news_source, news_abstract, news_views) VALUES (%s, %s, %s, %s, %s, %s, %s)\n",
      "INSERT INTO `news` (news_title, news_content, news_photo, news_date, news_source, news_abstract, news_views) VALUES (%s, %s, %s, %s, %s, %s, %s)\n",
      "INSERT INTO `news` (news_title, news_content, news_photo, news_date, news_source, news_abstract, news_views) VALUES (%s, %s, %s, %s, %s, %s, %s)\n",
      "INSERT INTO `news` (news_title, news_content, news_photo, news_date, news_source, news_abstract, news_views) VALUES (%s, %s, %s, %s, %s, %s, %s)\n",
      "INSERT INTO `news` (news_title, news_content, news_photo, news_date, news_source, news_abstract, news_views) VALUES (%s, %s, %s, %s, %s, %s, %s)\n",
      "INSERT INTO `news` (news_title, news_content, news_photo, news_date, news_source, news_abstract, news_views) VALUES (%s, %s, %s, %s, %s, %s, %s)\n",
      "INSERT INTO `news` (news_title, news_content, news_photo, news_date, news_source, news_abstract, news_views) VALUES (%s, %s, %s, %s, %s, %s, %s)\n",
      "INSERT INTO `news` (news_title, news_content, news_photo, news_date, news_source, news_abstract, news_views) VALUES (%s, %s, %s, %s, %s, %s, %s)\n",
      "INSERT INTO `news` (news_title, news_content, news_photo, news_date, news_source, news_abstract, news_views) VALUES (%s, %s, %s, %s, %s, %s, %s)\n",
      "(18, '渔民与海，波涛中那份情感交织', '她一打听，传言是因为核污水排放，开海不要“动静太大”。\\u3000\\u3000依傍国内四大渔场之一黄渤海渔场的初旺村，有着胶东...', '1.png', datetime.date(2023, 10, 10), '中国新闻网', '她一打听，传言是因为核污水排放，开海不要“动静太大”。\\u3000\\u3000依傍国内四大渔场之一黄渤海渔场的初旺村，有着胶东...', 3)\n",
      "(19, '日本启动第二轮排海前准备工作 预计排放约7800吨核污水', '中新网10月3日电 据日本共同社报道，东京电力公司3日启动了福岛第一核电站核污染水第二轮排海前准备工作。\\r\\r\\r\\r资料图：日本福岛第一核电站。\\r\\r\\u3000\\u3000据报道，测定即将排入海洋的核污染水中的氚浓度，如果浓度符合其所谓的“标准”，将于5日正式...', '2.png', datetime.date(2023, 10, 3), '中国新闻网', '中新网10月3日电 据日本共同社报道，东京电力公司3日启动了福岛第一核电站核污染水第二轮排海前准备工作。\\r\\r\\r\\r资料图：日本福岛第一核电站。\\r\\r\\u3000\\u3000据报道，测定即将排入海洋的核污染水中的氚浓度，如果浓度符合其所谓的“标准”，将于5日正式...', 101)\n"
     ]
    },
    {
     "name": "stderr",
     "output_type": "stream",
     "text": [
      "d:\\desk\\qiaotianyi\\Anacoda\\lib\\site-packages\\urllib3\\connectionpool.py:1043: InsecureRequestWarning: Unverified HTTPS request is being made to host 'sou.chinanews.com.cn'. Adding certificate verification is strongly advised. See: https://urllib3.readthedocs.io/en/1.26.x/advanced-usage.html#ssl-warnings\n",
      "  warnings.warn(\n"
     ]
    },
    {
     "name": "stdout",
     "output_type": "stream",
     "text": [
      "INSERT INTO `news` (news_title, news_content, news_photo, news_date, news_source, news_abstract, news_views) VALUES (%s, %s, %s, %s, %s, %s, %s)\n",
      "INSERT INTO `news` (news_title, news_content, news_photo, news_date, news_source, news_abstract, news_views) VALUES (%s, %s, %s, %s, %s, %s, %s)\n",
      "INSERT INTO `news` (news_title, news_content, news_photo, news_date, news_source, news_abstract, news_views) VALUES (%s, %s, %s, %s, %s, %s, %s)\n",
      "INSERT INTO `news` (news_title, news_content, news_photo, news_date, news_source, news_abstract, news_views) VALUES (%s, %s, %s, %s, %s, %s, %s)\n",
      "INSERT INTO `news` (news_title, news_content, news_photo, news_date, news_source, news_abstract, news_views) VALUES (%s, %s, %s, %s, %s, %s, %s)\n",
      "INSERT INTO `news` (news_title, news_content, news_photo, news_date, news_source, news_abstract, news_views) VALUES (%s, %s, %s, %s, %s, %s, %s)\n",
      "INSERT INTO `news` (news_title, news_content, news_photo, news_date, news_source, news_abstract, news_views) VALUES (%s, %s, %s, %s, %s, %s, %s)\n",
      "INSERT INTO `news` (news_title, news_content, news_photo, news_date, news_source, news_abstract, news_views) VALUES (%s, %s, %s, %s, %s, %s, %s)\n",
      "INSERT INTO `news` (news_title, news_content, news_photo, news_date, news_source, news_abstract, news_views) VALUES (%s, %s, %s, %s, %s, %s, %s)\n",
      "INSERT INTO `news` (news_title, news_content, news_photo, news_date, news_source, news_abstract, news_views) VALUES (%s, %s, %s, %s, %s, %s, %s)\n",
      "(18, '渔民与海，波涛中那份情感交织', '她一打听，传言是因为核污水排放，开海不要“动静太大”。\\u3000\\u3000依傍国内四大渔场之一黄渤海渔场的初旺村，有着胶东...', '1.png', datetime.date(2023, 10, 10), '中国新闻网', '她一打听，传言是因为核污水排放，开海不要“动静太大”。\\u3000\\u3000依傍国内四大渔场之一黄渤海渔场的初旺村，有着胶东...', 3)\n",
      "(19, '日本启动第二轮排海前准备工作 预计排放约7800吨核污水', '中新网10月3日电 据日本共同社报道，东京电力公司3日启动了福岛第一核电站核污染水第二轮排海前准备工作。\\r\\r\\r\\r资料图：日本福岛第一核电站。\\r\\r\\u3000\\u3000据报道，测定即将排入海洋的核污染水中的氚浓度，如果浓度符合其所谓的“标准”，将于5日正式...', '2.png', datetime.date(2023, 10, 3), '中国新闻网', '中新网10月3日电 据日本共同社报道，东京电力公司3日启动了福岛第一核电站核污染水第二轮排海前准备工作。\\r\\r\\r\\r资料图：日本福岛第一核电站。\\r\\r\\u3000\\u3000据报道，测定即将排入海洋的核污染水中的氚浓度，如果浓度符合其所谓的“标准”，将于5日正式...', 101)\n"
     ]
    },
    {
     "name": "stderr",
     "output_type": "stream",
     "text": [
      "d:\\desk\\qiaotianyi\\Anacoda\\lib\\site-packages\\urllib3\\connectionpool.py:1043: InsecureRequestWarning: Unverified HTTPS request is being made to host 'sou.chinanews.com.cn'. Adding certificate verification is strongly advised. See: https://urllib3.readthedocs.io/en/1.26.x/advanced-usage.html#ssl-warnings\n",
      "  warnings.warn(\n"
     ]
    },
    {
     "name": "stdout",
     "output_type": "stream",
     "text": [
      "INSERT INTO `news` (news_title, news_content, news_photo, news_date, news_source, news_abstract, news_views) VALUES (%s, %s, %s, %s, %s, %s, %s)\n",
      "INSERT INTO `news` (news_title, news_content, news_photo, news_date, news_source, news_abstract, news_views) VALUES (%s, %s, %s, %s, %s, %s, %s)\n",
      "INSERT INTO `news` (news_title, news_content, news_photo, news_date, news_source, news_abstract, news_views) VALUES (%s, %s, %s, %s, %s, %s, %s)\n",
      "INSERT INTO `news` (news_title, news_content, news_photo, news_date, news_source, news_abstract, news_views) VALUES (%s, %s, %s, %s, %s, %s, %s)\n",
      "INSERT INTO `news` (news_title, news_content, news_photo, news_date, news_source, news_abstract, news_views) VALUES (%s, %s, %s, %s, %s, %s, %s)\n",
      "INSERT INTO `news` (news_title, news_content, news_photo, news_date, news_source, news_abstract, news_views) VALUES (%s, %s, %s, %s, %s, %s, %s)\n",
      "INSERT INTO `news` (news_title, news_content, news_photo, news_date, news_source, news_abstract, news_views) VALUES (%s, %s, %s, %s, %s, %s, %s)\n",
      "INSERT INTO `news` (news_title, news_content, news_photo, news_date, news_source, news_abstract, news_views) VALUES (%s, %s, %s, %s, %s, %s, %s)\n",
      "INSERT INTO `news` (news_title, news_content, news_photo, news_date, news_source, news_abstract, news_views) VALUES (%s, %s, %s, %s, %s, %s, %s)\n",
      "INSERT INTO `news` (news_title, news_content, news_photo, news_date, news_source, news_abstract, news_views) VALUES (%s, %s, %s, %s, %s, %s, %s)\n",
      "(18, '渔民与海，波涛中那份情感交织', '她一打听，传言是因为核污水排放，开海不要“动静太大”。\\u3000\\u3000依傍国内四大渔场之一黄渤海渔场的初旺村，有着胶东...', '1.png', datetime.date(2023, 10, 10), '中国新闻网', '她一打听，传言是因为核污水排放，开海不要“动静太大”。\\u3000\\u3000依傍国内四大渔场之一黄渤海渔场的初旺村，有着胶东...', 3)\n",
      "(19, '日本启动第二轮排海前准备工作 预计排放约7800吨核污水', '中新网10月3日电 据日本共同社报道，东京电力公司3日启动了福岛第一核电站核污染水第二轮排海前准备工作。\\r\\r\\r\\r资料图：日本福岛第一核电站。\\r\\r\\u3000\\u3000据报道，测定即将排入海洋的核污染水中的氚浓度，如果浓度符合其所谓的“标准”，将于5日正式...', '2.png', datetime.date(2023, 10, 3), '中国新闻网', '中新网10月3日电 据日本共同社报道，东京电力公司3日启动了福岛第一核电站核污染水第二轮排海前准备工作。\\r\\r\\r\\r资料图：日本福岛第一核电站。\\r\\r\\u3000\\u3000据报道，测定即将排入海洋的核污染水中的氚浓度，如果浓度符合其所谓的“标准”，将于5日正式...', 101)\n"
     ]
    }
   ],
   "source": [
    "import pymysql\n",
    "import requests\n",
    "import re\n",
    "import bs4\n",
    "import random\n",
    "from bs4 import BeautifulSoup\n",
    "\n",
    "url = 'https://sou.chinanews.com.cn/search.do?q=%E6%A0%B8%E6%B1%A1%E6%B0%B4' #中国新闻网\n",
    "\n",
    "def crawl(sub_url):    \n",
    "    r = requests.get(sub_url, verify=False)\n",
    "    r.raise_for_status()\n",
    "\n",
    "    # 创建一个BeautifulSoup解析对象\n",
    "    soup = BeautifulSoup(r.text,'html.parser')\n",
    "\n",
    "    titles = [each.get_text().strip() for each in soup.find_all(name='li', attrs={'class': 'news_title'})]\n",
    "    contents = [each.get_text().strip() for each in soup.find_all(name='li', attrs={'class': 'news_content'})]\n",
    "    times = [each.get_text()[-40:].strip() for each in soup.find_all(name='li', attrs={'class': 'news_other'})]\n",
    "\n",
    "    return titles, contents, times\n",
    "\n",
    "def updateDB():\n",
    "    conn = pymysql.connect(host='127.0.0.1',  # 连接名称，默认为127.0.0.1\n",
    "                           user='root',  # 用户名\n",
    "                           passwd='243487149jl',  # 密码\n",
    "                           port=3306,  # 端口，默认为3306\n",
    "                           db='yii2advanced',  # 数据库名称\n",
    "                           charset='utf8'  # 字符编码\n",
    "                           )\n",
    "    cur = conn.cursor()  # 生成游标对象\n",
    "    sql = \"DELETE FROM `news`\"\n",
    "    print(sql)\n",
    "    cur.execute(sql)  # 执行SQL语句\n",
    "    conn.commit()\n",
    "    \n",
    "    num_id = 1\n",
    "    for j in range(1, 11):\n",
    "        sub_url = url + \"&start=\" + str(j*10)\n",
    "        titles, contents, times = crawl(sub_url)\n",
    "        \n",
    "        for i in range(min(10, len(titles))):\n",
    "            news_title = titles[i]\n",
    "            news_content = contents[i]\n",
    "            news_photo = str(num_id) + '.png'\n",
    "            news_date = times[i]\n",
    "            news_source = '中国新闻网'\n",
    "            news_abstract = contents[i]\n",
    "            news_views = random.randint(0, 500)\n",
    "\n",
    "            sql = \"INSERT INTO `news` (news_title, news_content, news_photo, news_date, news_source, news_abstract, news_views) VALUES (%s, %s, %s, %s, %s, %s, %s)\"\n",
    "            values = (news_title, news_content, news_photo, news_date, news_source, news_abstract, news_views)\n",
    "            num_id += 1\n",
    "            print(sql)\n",
    "            cur.execute(sql, values)  # 执行SQL语句\n",
    "        \n",
    "        sql = \"SELECT * FROM `news`\"\n",
    "        cur.execute(sql)  # 执行SQL语句\n",
    "        data = cur.fetchall()  # 通过fetchall方法获得数据\n",
    "        for row in data[:2]:  # 打印输出前2条数据\n",
    "            print(row)\n",
    "        \n",
    "        conn.commit()  # 提交之前的操作，如果之前已经执行多次的execute，那么就都进行提交\n",
    "    \n",
    "    cur.close()  # 关闭游标\n",
    "    conn.close()  # 关闭连接\n",
    "    \n",
    "\n",
    "import time\n",
    "\n",
    "def sleep_time(hour, minute, sec):\n",
    "    return hour * 3600 + minute * 60 + sec \n",
    "\n",
    "def loop_func(hour, minute, sec):\n",
    "    # 每隔一段时间执行func函数\n",
    "    timeval = sleep_time(hour, minute, sec)\n",
    "    while True:\n",
    "        updateDB()\n",
    "        time.sleep(timeval)\n",
    "\n",
    "\n",
    "if __name__ == '__main__':\n",
    "    loop_func(0, 10, 0)\n"
   ]
  }
 ],
 "metadata": {
  "kernelspec": {
   "display_name": "base",
   "language": "python",
   "name": "python3"
  },
  "language_info": {
   "codemirror_mode": {
    "name": "ipython",
    "version": 3
   },
   "file_extension": ".py",
   "mimetype": "text/x-python",
   "name": "python",
   "nbconvert_exporter": "python",
   "pygments_lexer": "ipython3",
   "version": "3.9.12"
  }
 },
 "nbformat": 4,
 "nbformat_minor": 2
}
